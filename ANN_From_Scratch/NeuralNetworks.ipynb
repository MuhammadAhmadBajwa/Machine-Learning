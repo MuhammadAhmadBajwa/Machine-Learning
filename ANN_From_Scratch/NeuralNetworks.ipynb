{
 "cells": [
  {
   "cell_type": "code",
   "execution_count": null,
   "id": "3fcbfc82-6b61-4092-9abc-f1b26f41f42e",
   "metadata": {},
   "outputs": [],
   "source": [
    "!pip install --upgrade numpy\n",
    "!pip install scikit-learn"
   ]
  },
  {
   "cell_type": "code",
   "execution_count": null,
   "id": "010b6fdc-5de6-4a50-8be9-9d4229e31f59",
   "metadata": {},
   "outputs": [],
   "source": [
    "import numpy as np\n",
    "from sklearn.datasets import make_classification\n",
    "from sklearn.model_selection import train_test_split\n",
    "from sklearn.preprocessing import StandardScaler\n",
    "\n",
    "# Define the activation functions\n",
    "def sigmoid(x):\n",
    "    return 1 / (1 + np.exp(-x))\n",
    "\n",
    "def sigmoid_derivative(x):\n",
    "    return x * (1 - x)\n",
    "\n",
    "# Define the neural network class\n",
    "class NeuralNetwork:\n",
    "    def __init__(self, input_size, hidden_size, output_size):\n",
    "        self.input_size = input_size\n",
    "        self.hidden_size = hidden_size\n",
    "        self.output_size = output_size\n",
    "        \n",
    "        self.weights_input_hidden = np.random.randn(self.input_size, self.hidden_size)\n",
    "        self.weights_hidden_output = np.random.randn(self.hidden_size, self.output_size)\n",
    "        \n",
    "        self.bias_hidden = np.zeros((1, self.hidden_size))\n",
    "        self.bias_output = np.zeros((1, self.output_size))\n",
    "        \n",
    "    def feedforward(self, inputs):\n",
    "        self.hidden_sum = np.dot(inputs, self.weights_input_hidden) + self.bias_hidden\n",
    "        self.hidden_output = sigmoid(self.hidden_sum)\n",
    "        \n",
    "        self.output_sum = np.dot(self.hidden_output, self.weights_hidden_output) + self.bias_output\n",
    "        self.output = sigmoid(self.output_sum)\n",
    "        \n",
    "        return self.output\n",
    "    \n",
    "    def backward(self, inputs, targets, learning_rate):\n",
    "        # Output layer error and delta\n",
    "        self.output_error = targets - self.output\n",
    "        self.output_delta = self.output_error * sigmoid_derivative(self.output)\n",
    "        \n",
    "        # Hidden layer error and delta\n",
    "        self.hidden_error = np.dot(self.output_delta, self.weights_hidden_output.T)\n",
    "        self.hidden_delta = self.hidden_error * sigmoid_derivative(self.hidden_output)\n",
    "        \n",
    "        # Update weights and biases\n",
    "        self.weights_hidden_output += learning_rate * np.dot(self.hidden_output.T, self.output_delta)\n",
    "        self.weights_input_hidden += learning_rate * np.dot(inputs.T, self.hidden_delta)\n",
    "        \n",
    "        self.bias_output += learning_rate * np.sum(self.output_delta, axis=0)\n",
    "        self.bias_hidden += learning_rate * np.sum(self.hidden_delta, axis=0)\n",
    "\n",
    "# Data generator function\n",
    "def generate_data(samples=1000, features=20, classes=2):\n",
    "    X, y = make_classification(n_samples=samples, n_features=features, n_classes=classes, random_state=42)\n",
    "    X_train, X_test, y_train, y_test = train_test_split(X, y, test_size=0.2, random_state=42)\n",
    "    scaler = StandardScaler()\n",
    "    X_train = scaler.fit_transform(X_train)\n",
    "    X_test = scaler.transform(X_test)\n",
    "    return X_train, X_test, y_train, y_test\n",
    "\n",
    "# Training function\n",
    "def train(X_train, y_train, input_size, hidden_size, output_size, epochs=3000, learning_rate=0.1):\n",
    "    nn = NeuralNetwork(input_size, hidden_size, output_size)\n",
    "    for epoch in range(epochs):\n",
    "        output = nn.feedforward(X_train)\n",
    "        nn.backward(X_train, y_train, learning_rate)\n",
    "        if epoch % 100 == 0:\n",
    "            loss = np.mean(np.square(y_train - output))\n",
    "            print(f\"Epoch {epoch}, Loss: {loss}\")\n",
    "    return nn\n",
    "\n",
    "# Generate data\n",
    "X_train, X_test, y_train, y_test = generate_data()\n",
    "\n",
    "# Train the neural network\n",
    "input_size = X_train.shape[1]\n",
    "hidden_size = 32\n",
    "output_size = 1\n",
    "nn = train(X_train, y_train.reshape(-1, 1), input_size, hidden_size, output_size)\n",
    "\n",
    "output = nn.feedforward(X_test)\n",
    "y_test = y_test.reshape(-1,1)\n",
    "\n",
    "output = np.where(output > 0.5,1,0)\n",
    "\n"
   ]
  },
  {
   "cell_type": "code",
   "execution_count": 150,
   "id": "3532d842-640b-477f-a8b4-35c7db98c2e3",
   "metadata": {},
   "outputs": [
    {
     "name": "stdout",
     "output_type": "stream",
     "text": [
      "Confusion Matrix:\n",
      "[[79 14]\n",
      " [19 88]]\n"
     ]
    }
   ],
   "source": [
    "# Compute confusion matrix\n",
    "conf_matrix = confusion_matrix(y_test, output)\n",
    "\n",
    "print(\"Confusion Matrix:\")\n",
    "print(conf_matrix)\n",
    "\n",
    "    "
   ]
  },
  {
   "cell_type": "code",
   "execution_count": null,
   "id": "c901b5b1-6afb-42a8-b6c5-c60833cdcd76",
   "metadata": {},
   "outputs": [],
   "source": []
  }
 ],
 "metadata": {
  "kernelspec": {
   "display_name": "Python 3 (ipykernel)",
   "language": "python",
   "name": "python3"
  },
  "language_info": {
   "codemirror_mode": {
    "name": "ipython",
    "version": 3
   },
   "file_extension": ".py",
   "mimetype": "text/x-python",
   "name": "python",
   "nbconvert_exporter": "python",
   "pygments_lexer": "ipython3",
   "version": "3.10.11"
  }
 },
 "nbformat": 4,
 "nbformat_minor": 5
}
